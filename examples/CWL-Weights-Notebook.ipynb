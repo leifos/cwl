{
 "cells": [
  {
   "cell_type": "code",
   "execution_count": 12,
   "metadata": {
    "collapsed": true
   },
   "outputs": [],
   "source": [
    "import sys\n",
    "sys.path.insert(0, '../scripts/')\n",
    "\n",
    "\n",
    "from ruler.measures.cwl_rbp import RBPCWLMetric\n",
    "from ruler.measures.cwl_inst import INSTCWLMetric\n",
    "from ruler.measures.cwl_bpm import BPMDCWLMetric\n",
    "\n",
    "class Ranking(object):\n",
    "    def __init__(self, topic_id, gains, costs):\n",
    "        self.topic_id = topic_id\n",
    "        self.gains = gains\n",
    "        self.costs = costs\n",
    "        self.total_gain = 0.0\n",
    "        self.total_rels = 0.0\n",
    "        for g in gains:\n",
    "            self.total_gain += g\n",
    "            if g > 0.0:\n",
    "                self.total_rels += 1.0\n",
    "        \n"
   ]
  },
  {
   "cell_type": "code",
   "execution_count": 13,
   "metadata": {
    "collapsed": true
   },
   "outputs": [],
   "source": [
    "g1 = [ 1,0,1,1,0,0,1,0,1,0]\n",
    "c1 = [ 1,1,1,1,1,1,1,1,1,1]\n",
    "\n",
    "t1 = Ranking(\"T1\",g1,c1)\n"
   ]
  },
  {
   "cell_type": "code",
   "execution_count": 14,
   "metadata": {},
   "outputs": [
    {
     "name": "stdout",
     "output_type": "stream",
     "text": [
      "T1\tRBP@0.9\t0.3501\t3.5009\t1.0000\t10.0000\t10.0000\n"
     ]
    }
   ],
   "source": [
    "rbp = RBPCWLMetric(theta=0.9)\n",
    "rbp.measure(t1)\n",
    "rbp.report()"
   ]
  },
  {
   "cell_type": "code",
   "execution_count": 15,
   "metadata": {},
   "outputs": [
    {
     "name": "stdout",
     "output_type": "stream",
     "text": [
      "[ 0.9  0.9  0.9  0.9  0.9  0.9  0.9  0.9  0.9  0.9]\n"
     ]
    }
   ],
   "source": [
    "print(rbp.c_vector(t1)[0:10])"
   ]
  },
  {
   "cell_type": "code",
   "execution_count": 16,
   "metadata": {},
   "outputs": [
    {
     "name": "stdout",
     "output_type": "stream",
     "text": [
      "[ 0.1         0.09        0.081       0.0729      0.06561     0.059049\n",
      "  0.0531441   0.04782969  0.04304672  0.03874205]\n"
     ]
    }
   ],
   "source": [
    "print(rbp.w_vector(t1)[0:10])"
   ]
  },
  {
   "cell_type": "code",
   "execution_count": 17,
   "metadata": {},
   "outputs": [
    {
     "name": "stdout",
     "output_type": "stream",
     "text": [
      "T1\tINST-T=1\t0.7934\t1.1719\t1.0000\t1.4770\t1.4771\n"
     ]
    }
   ],
   "source": [
    "inst = INSTCWLMetric(T=1)\n",
    "inst.measure(t1)\n",
    "inst.report()"
   ]
  },
  {
   "cell_type": "code",
   "execution_count": 18,
   "metadata": {},
   "outputs": [
    {
     "name": "stdout",
     "output_type": "stream",
     "text": [
      "[ 0.25        0.44444444  0.44444444  0.44444444  0.5625      0.64        0.64\n",
      "  0.69444444  0.69444444  0.73469388]\n"
     ]
    }
   ],
   "source": [
    "print(inst.c_vector(t1)[0:10])"
   ]
  },
  {
   "cell_type": "code",
   "execution_count": 19,
   "metadata": {},
   "outputs": [
    {
     "name": "stdout",
     "output_type": "stream",
     "text": [
      "[ 0.67700797  0.16925199  0.07522311  0.03343249  0.01485889  0.00835812\n",
      "  0.0053492   0.00342349  0.00237742  0.00165099]\n"
     ]
    }
   ],
   "source": [
    "print(inst.w_vector(t1)[0:10])"
   ]
  },
  {
   "cell_type": "code",
   "execution_count": 20,
   "metadata": {},
   "outputs": [
    {
     "name": "stdout",
     "output_type": "stream",
     "text": [
      "T1\tBPM-Dynamic-T=3-K=10-hb=1.0-hc=1.0\t0.5714\t4.0000\t1.0000\t7.0000\t7.0000\n"
     ]
    }
   ],
   "source": [
    "bpm = BPMDCWLMetric(T=3)\n",
    "bpm.measure(t1)\n",
    "bpm.report()"
   ]
  },
  {
   "cell_type": "code",
   "execution_count": 22,
   "metadata": {
    "scrolled": true
   },
   "outputs": [
    {
     "name": "stdout",
     "output_type": "stream",
     "text": [
      "Populating the interactive namespace from numpy and matplotlib\n",
      "Using matplotlib backend: MacOSX\n"
     ]
    },
    {
     "name": "stderr",
     "output_type": "stream",
     "text": [
      "/Users/leif/anaconda3/lib/python3.6/site-packages/IPython/core/magics/pylab.py:160: UserWarning: pylab import has clobbered these variables: ['pylab']\n",
      "`%matplotlib` prevents importing * from pylab and numpy\n",
      "  \"\\n`%matplotlib` prevents importing * from pylab and numpy\"\n"
     ]
    },
    {
     "data": {
      "text/plain": [
       "[<matplotlib.lines.Line2D at 0x112334b38>]"
      ]
     },
     "execution_count": 22,
     "metadata": {},
     "output_type": "execute_result"
    },
    {
     "data": {
      "image/png": "[encoded data removed]",
      "text/plain": [
       "<matplotlib.figure.Figure at 0x10f7afac8>"
      ]
     },
     "metadata": {},
     "output_type": "display_data"
    }
   ],
   "source": [
    "import pylab\n",
    "%pylab inline\n",
    "%matplotlib\n",
    "\n",
    "pylab.plot(rbp.w_vector(t1)[0:20])\n",
    "pylab.plot(inst.w_vector(t1)[0:20])\n",
    "pylab.plot(bpm.w_vector(t1)[0:20])\n",
    "\n",
    "\n"
   ]
  },
  {
   "cell_type": "code",
   "execution_count": 31,
   "metadata": {},
   "outputs": [],
   "source": [
    "g1 = [ 1,1,0,0,0,0,1,0,1,0]\n",
    "c1 = [ 1,1,1,1,1,1,1,1,1,1]\n",
    "\n",
    "t2 = Ranking(\"T2\",g1,c1)\n",
    "\n",
    "bpm38 = BPMDCWLMetric(T=3, K=8,hc=1.0, hb=1.0)\n",
    "bpm33 = BPMDCWLMetric(T=5,K=4,hc=1.0, hb=1.0)\n",
    "\n"
   ]
  },
  {
   "cell_type": "code",
   "execution_count": 32,
   "metadata": {},
   "outputs": [
    {
     "data": {
      "text/plain": [
       "[<matplotlib.lines.Line2D at 0x112707a90>]"
      ]
     },
     "execution_count": 32,
     "metadata": {},
     "output_type": "execute_result"
    },
    {
     "data": {
      "image/png": "[encoded data removed]",
      "text/plain": [
       "<matplotlib.figure.Figure at 0x1126da198>"
      ]
     },
     "metadata": {},
     "output_type": "display_data"
    }
   ],
   "source": [
    "pylab.figure()\n",
    "pylab.plot(bpm38.w_vector(t2)[0:20])\n",
    "pylab.plot(bpm33.w_vector(t2)[0:20])\n"
   ]
  },
  {
   "cell_type": "code",
   "execution_count": null,
   "metadata": {
    "collapsed": true
   },
   "outputs": [],
   "source": [
    "\n"
   ]
  }
 ],
 "metadata": {
  "kernelspec": {
   "display_name": "Python 3",
   "language": "python",
   "name": "python3"
  },
  "language_info": {
   "codemirror_mode": {
    "name": "ipython",
    "version": 3
   },
   "file_extension": ".py",
   "mimetype": "text/x-python",
   "name": "python",
   "nbconvert_exporter": "python",
   "pygments_lexer": "ipython3",
   "version": "3.6.3"
  }
 },
 "nbformat": 4,
 "nbformat_minor": 2
}
