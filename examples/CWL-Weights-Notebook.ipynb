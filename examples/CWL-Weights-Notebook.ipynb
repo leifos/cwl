{
 "cells": [
  {
   "cell_type": "code",
   "execution_count": 28,
   "metadata": {},
   "outputs": [],
   "source": [
    "import sys\n",
    "sys.path.insert(0, '../scripts/')\n",
    "\n",
    "\n",
    "from ruler.measures.cwl_rbp import RBPCWLMetric\n",
    "from ruler.measures.cwl_inst import INSTCWLMetric\n",
    "from ruler.measures.cwl_bpm import BPMDCWLMetric\n",
    "\n",
    "class Ranking(object):\n",
    "    def __init__(self, topic_id, gains, costs):\n",
    "        self.topic_id = topic_id\n",
    "        self.gains = gains\n",
    "        self.costs = costs\n",
    "\n"
   ]
  },
  {
   "cell_type": "code",
   "execution_count": 5,
   "metadata": {
    "collapsed": true
   },
   "outputs": [],
   "source": [
    "g1 = [ 1,0,1,1,0,0,1,0,1,0]\n",
    "c1 = [ 1,1,1,1,1,1,1,1,1,1]\n",
    "\n",
    "t1 = Ranking(\"T1\",g1,c1)\n"
   ]
  },
  {
   "cell_type": "code",
   "execution_count": 6,
   "metadata": {},
   "outputs": [
    {
     "name": "stdout",
     "output_type": "stream",
     "text": [
      "T1\tRBP@0.9\t0.3501\t3.5009\t1.0000\t10.0000\t10.0000\n"
     ]
    }
   ],
   "source": [
    "rbp = RBPCWLMetric(theta=0.9)\n",
    "rbp.measure(t1)\n",
    "rbp.report()"
   ]
  },
  {
   "cell_type": "code",
   "execution_count": 15,
   "metadata": {},
   "outputs": [
    {
     "name": "stdout",
     "output_type": "stream",
     "text": [
      "[ 0.30872059  0.21610441  0.15127309  0.10589116  0.07412381  0.05188667\n",
      "  0.03632067  0.02542447  0.01779713  0.01245799]\n"
     ]
    }
   ],
   "source": [
    "print(rbp.c_vector(g1))"
   ]
  },
  {
   "cell_type": "code",
   "execution_count": 16,
   "metadata": {},
   "outputs": [
    {
     "name": "stdout",
     "output_type": "stream",
     "text": [
      "[ 0.30872059  0.21610441  0.15127309  0.10589116  0.07412381  0.05188667\n",
      "  0.03632067  0.02542447  0.01779713  0.01245799]\n"
     ]
    }
   ],
   "source": [
    "print(rbp.w_vector(g1))"
   ]
  },
  {
   "cell_type": "code",
   "execution_count": 23,
   "metadata": {},
   "outputs": [
    {
     "name": "stdout",
     "output_type": "stream",
     "text": [
      "T1\tINST-T=1    \t0.7934\t1.1719\t1.0000\t1.4770\t1.4771\n"
     ]
    }
   ],
   "source": [
    "inst = INSTCWLMetric(T=1)\n",
    "inst.measure(t1)\n",
    "inst.report()"
   ]
  },
  {
   "cell_type": "code",
   "execution_count": 24,
   "metadata": {},
   "outputs": [
    {
     "name": "stdout",
     "output_type": "stream",
     "text": [
      "[ 0.25        0.44444444  0.44444444  0.44444444  0.5625      0.64        0.64\n",
      "  0.69444444  0.69444444  0.73469388]\n"
     ]
    }
   ],
   "source": [
    "print(inst.c_vector(g1))"
   ]
  },
  {
   "cell_type": "code",
   "execution_count": 25,
   "metadata": {},
   "outputs": [
    {
     "name": "stdout",
     "output_type": "stream",
     "text": [
      "[ 0.68320211  0.17080053  0.07591135  0.03373838  0.01499483  0.00843459\n",
      "  0.00539814  0.00345481  0.00239917  0.00166609]\n"
     ]
    }
   ],
   "source": [
    "print(inst.w_vector(g1))"
   ]
  },
  {
   "cell_type": "code",
   "execution_count": 31,
   "metadata": {},
   "outputs": [
    {
     "name": "stdout",
     "output_type": "stream",
     "text": [
      "T1\tBPM-Dynamic-T=3-K=10-hb=1.0-hc=1.0\t0.5714\t4.0000\t1.0000\t7.0000\t7.0000\n"
     ]
    }
   ],
   "source": [
    "bpm = BPMDCWLMetric(T=3)\n",
    "bpm.measure(t1)\n",
    "bpm.report()"
   ]
  },
  {
   "cell_type": "code",
   "execution_count": 32,
   "metadata": {
    "scrolled": true
   },
   "outputs": [
    {
     "name": "stdout",
     "output_type": "stream",
     "text": [
      "Populating the interactive namespace from numpy and matplotlib\n"
     ]
    },
    {
     "name": "stderr",
     "output_type": "stream",
     "text": [
      "/Users/leif/anaconda3/lib/python3.6/site-packages/IPython/core/magics/pylab.py:160: UserWarning: pylab import has clobbered these variables: ['pylab']\n",
      "`%matplotlib` prevents importing * from pylab and numpy\n",
      "  \"\\n`%matplotlib` prevents importing * from pylab and numpy\"\n"
     ]
    },
    {
     "data": {
      "text/plain": [
       "[<matplotlib.lines.Line2D at 0x11aec8dd8>]"
      ]
     },
     "execution_count": 32,
     "metadata": {},
     "output_type": "execute_result"
    },
    {
     "data": {
      "image/png": "[encoded data removed]",
      "text/plain": [
       "<matplotlib.figure.Figure at 0x11ac86710>"
      ]
     },
     "metadata": {},
     "output_type": "display_data"
    }
   ],
   "source": [
    "import pylab\n",
    "%pylab inline\n",
    "\n",
    "pylab.plot(rbp.w_vector(g1))\n",
    "pylab.plot(inst.w_vector(g1))\n",
    "pylab.plot(bpm.w_vector(g1,c1))\n",
    "\n",
    "\n"
   ]
  },
  {
   "cell_type": "code",
   "execution_count": null,
   "metadata": {
    "collapsed": true
   },
   "outputs": [],
   "source": []
  },
  {
   "cell_type": "code",
   "execution_count": null,
   "metadata": {
    "collapsed": true
   },
   "outputs": [],
   "source": []
  },
  {
   "cell_type": "code",
   "execution_count": null,
   "metadata": {
    "collapsed": true
   },
   "outputs": [],
   "source": []
  }
 ],
 "metadata": {
  "kernelspec": {
   "display_name": "Python 3",
   "language": "python",
   "name": "python3"
  },
  "language_info": {
   "codemirror_mode": {
    "name": "ipython",
    "version": 3
   },
   "file_extension": ".py",
   "mimetype": "text/x-python",
   "name": "python",
   "nbconvert_exporter": "python",
   "pygments_lexer": "ipython3",
   "version": "3.6.3"
  }
 },
 "nbformat": 4,
 "nbformat_minor": 2
}
