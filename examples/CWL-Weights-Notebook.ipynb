{
 "cells": [
  {
   "cell_type": "code",
   "execution_count": 1,
   "metadata": {
    "collapsed": true
   },
   "outputs": [],
   "source": [
    "import sys\n",
    "sys.path.insert(0, '../scripts/')\n",
    "import numpy as np\n",
    "import matplotlib.pyplot as plt\n",
    "%matplotlib inline\n",
    "\n",
    "from ruler.measures.cwl_rbp import RBPCWLMetric\n",
    "from ruler.measures.cwl_inst import INSTCWLMetric\n",
    "from ruler.measures.cwl_bpm import BPMDCWLMetric\n",
    "from ruler.cwl_ruler import Ranking"
   ]
  },
  {
   "cell_type": "code",
   "execution_count": 2,
   "metadata": {
    "collapsed": true
   },
   "outputs": [],
   "source": [
    "g1 = [ 1,0,1,1,0,0,1,0,1,0]\n",
    "c1 = [ 1,1,1,1,1,1,1,1,1,1]\n",
    "t1 = Ranking(\"T1\",g1,c1)"
   ]
  },
  {
   "cell_type": "code",
   "execution_count": 3,
   "metadata": {},
   "outputs": [
    {
     "name": "stdout",
     "output_type": "stream",
     "text": [
      "T1\tRBP@0.9\t0.3501\t3.5009\t1.0000\t10.0000\t10.0000\n"
     ]
    }
   ],
   "source": [
    "rbp = RBPCWLMetric(theta=0.9)\n",
    "rbp.measure(t1)\n",
    "rbp.report()"
   ]
  },
  {
   "cell_type": "code",
   "execution_count": 4,
   "metadata": {},
   "outputs": [
    {
     "name": "stdout",
     "output_type": "stream",
     "text": [
      "[ 0.9  0.9  0.9  0.9  0.9  0.9  0.9  0.9  0.9  0.9]\n"
     ]
    }
   ],
   "source": [
    "print(rbp.c_vector(t1)[0:10])"
   ]
  },
  {
   "cell_type": "code",
   "execution_count": 5,
   "metadata": {},
   "outputs": [
    {
     "name": "stdout",
     "output_type": "stream",
     "text": [
      "[ 0.1         0.09        0.081       0.0729      0.06561     0.059049\n",
      "  0.0531441   0.04782969  0.04304672  0.03874205]\n"
     ]
    }
   ],
   "source": [
    "print(rbp.w_vector(t1)[0:10])"
   ]
  },
  {
   "cell_type": "code",
   "execution_count": 6,
   "metadata": {},
   "outputs": [
    {
     "name": "stdout",
     "output_type": "stream",
     "text": [
      "[ 0.1         0.09        0.081       0.0729      0.06561     0.059049\n",
      "  0.0531441   0.04782969  0.04304672  0.03874205]\n"
     ]
    }
   ],
   "source": [
    "print(rbp.l_vector(t1)[0:10])"
   ]
  },
  {
   "cell_type": "code",
   "execution_count": 7,
   "metadata": {},
   "outputs": [
    {
     "name": "stdout",
     "output_type": "stream",
     "text": [
      "T1\tINST-T=1\t0.7934\t1.1719\t1.0000\t1.4770\t1.4771\n"
     ]
    }
   ],
   "source": [
    "inst = INSTCWLMetric(T=1)\n",
    "inst.measure(t1)\n",
    "inst.report()"
   ]
  },
  {
   "cell_type": "code",
   "execution_count": 8,
   "metadata": {},
   "outputs": [
    {
     "name": "stdout",
     "output_type": "stream",
     "text": [
      "[ 0.25        0.44444444  0.44444444  0.44444444  0.5625      0.64        0.64\n",
      "  0.69444444  0.69444444  0.73469388]\n"
     ]
    }
   ],
   "source": [
    "print(inst.c_vector(t1)[0:10])"
   ]
  },
  {
   "cell_type": "code",
   "execution_count": 9,
   "metadata": {},
   "outputs": [
    {
     "name": "stdout",
     "output_type": "stream",
     "text": [
      "[ 0.67700797  0.16925199  0.07522311  0.03343249  0.01485889  0.00835812\n",
      "  0.0053492   0.00342349  0.00237742  0.00165099]\n"
     ]
    }
   ],
   "source": [
    "print(inst.w_vector(t1)[0:10])"
   ]
  },
  {
   "cell_type": "code",
   "execution_count": 14,
   "metadata": {},
   "outputs": [
    {
     "name": "stdout",
     "output_type": "stream",
     "text": [
      "[  7.50000000e-01   1.38888889e-01   6.17283951e-02   2.74348422e-02\n",
      "   9.60219479e-03   4.44444444e-03   2.84444444e-03   1.54513032e-03\n",
      "   1.07300716e-03   6.46989477e-04]\n"
     ]
    }
   ],
   "source": [
    "print(inst.l_vector(t1)[0:10])"
   ]
  },
  {
   "cell_type": "code",
   "execution_count": 10,
   "metadata": {},
   "outputs": [
    {
     "name": "stdout",
     "output_type": "stream",
     "text": [
      "T1\tBPM-Dynamic-T=3-K=10-hb=1.0-hc=1.0\t0.5714\t4.0000\t1.0000\t7.0000\t7.0000\n"
     ]
    }
   ],
   "source": [
    "bpm = BPMDCWLMetric(T=3)\n",
    "bpm.measure(t1)\n",
    "bpm.report()"
   ]
  },
  {
   "cell_type": "code",
   "execution_count": 45,
   "metadata": {
    "scrolled": true
   },
   "outputs": [
    {
     "data": {
      "text/plain": [
       "(-0.01, 1.01)"
      ]
     },
     "execution_count": 45,
     "metadata": {},
     "output_type": "execute_result"
    },
    {
     "data": {
      "image/png": "[encoded data removed]",
      "text/plain": [
       "<matplotlib.figure.Figure at 0x1134bf160>"
      ]
     },
     "metadata": {},
     "output_type": "display_data"
    }
   ],
   "source": [
    "n=30\n",
    "plt.figure(figsize=(15,5))\n",
    "plt.subplots_adjust(hspace=0.2)\n",
    "\n",
    "\n",
    "ax = plt.subplot(131)\n",
    "plt.title('Continue')\n",
    "plt.plot(range(0,n),rbp.c_vector(t1)[0:n])\n",
    "plt.plot(range(0,n),inst.c_vector(t1)[0:n])\n",
    "plt.plot(range(0,n),bpm.c_vector(t1)[0:n])\n",
    "plt.grid(True)\n",
    "ax.set_ylim(ymin=-0.01, ymax=1.01)\n",
    "\n",
    "ax = plt.subplot(132)\n",
    "plt.title('Weight')\n",
    "plt.plot(range(0,n),rbp.w_vector(t1)[0:n])\n",
    "plt.plot(range(0,n),inst.w_vector(t1)[0:n])\n",
    "plt.plot(range(0,n),bpm.w_vector(t1)[0:n])\n",
    "plt.grid(True)\n",
    "ax.set_ylim(ymin=-0.01, ymax=1.01)\n",
    "\n",
    "\n",
    "\n",
    "ax = plt.subplot(133)\n",
    "plt.title('Last')\n",
    "plt.plot(range(0,n),rbp.l_vector(t1)[0:n])\n",
    "plt.plot(range(0,n),inst.l_vector(t1)[0:n])\n",
    "plt.plot(range(0,n),bpm.l_vector(t1)[0:n])\n",
    "plt.grid(True)\n",
    "ax.set_ylim(ymin=-0.01, ymax=1.01)\n"
   ]
  },
  {
   "cell_type": "code",
   "execution_count": 39,
   "metadata": {},
   "outputs": [
    {
     "data": {
      "text/plain": [
       "2.0"
      ]
     },
     "execution_count": 39,
     "metadata": {},
     "output_type": "execute_result"
    }
   ],
   "source": [
    "g1 = [ 1,1,0,0,0,0,1,0,1,0]\n",
    "c1 = [ 1,1,1,1,1,1,1,1,1,1]\n",
    "\n",
    "t2 = Ranking(\"T2\",g1,c1)\n",
    "\n",
    "bpm38 = BPMDCWLMetric(T=3, K=8, hc=1.0, hb=1.0)\n",
    "bpm33 = BPMDCWLMetric(T=5, K=4, hc=1.0, hb=1.0)\n",
    "bpm38.measure(t2)\n",
    "bpm33.measure(t2)"
   ]
  },
  {
   "cell_type": "code",
   "execution_count": 44,
   "metadata": {},
   "outputs": [
    {
     "data": {
      "text/plain": [
       "(-0.01, 1.01)"
      ]
     },
     "execution_count": 44,
     "metadata": {},
     "output_type": "execute_result"
    },
    {
     "data": {
      "image/png": "[encoded data removed]",
      "text/plain": [
       "<matplotlib.figure.Figure at 0x10fd49ef0>"
      ]
     },
     "metadata": {},
     "output_type": "display_data"
    }
   ],
   "source": [
    "plt.figure(figsize=(15,5))\n",
    "plt.subplots_adjust(hspace=0.2)\n",
    "ax = plt.subplot(131)\n",
    "plt.title('Continue')\n",
    "n=20\n",
    "plt.plot(range(0,n),bpm38.c_vector(t2)[0:n])\n",
    "plt.plot(range(0,n),bpm33.c_vector(t2)[0:n])\n",
    "\n",
    "plt.grid(True)\n",
    "ax.set_ylim(ymin=-0.01, ymax=1.01)\n",
    "\n",
    "ax = plt.subplot(132)\n",
    "plt.title('Weight')\n",
    "plt.plot(range(0,n),bpm38.w_vector(t2)[0:n])\n",
    "plt.plot(range(0,n),bpm33.w_vector(t2)[0:n])\n",
    "plt.grid(True)\n",
    "ax.set_ylim(ymin=-0.01, ymax=1.01)\n",
    "\n",
    "ax = plt.subplot(133)\n",
    "plt.title('Last')\n",
    "plt.plot(range(0,n),bpm38.l_vector(t2)[0:n])\n",
    "plt.plot(range(0,n),bpm33.l_vector(t2)[0:n])\n",
    "plt.grid(True)\n",
    "ax.set_ylim(ymin=-0.01, ymax=1.01)"
   ]
  },
  {
   "cell_type": "code",
   "execution_count": null,
   "metadata": {
    "collapsed": true
   },
   "outputs": [],
   "source": [
    "\n"
   ]
  }
 ],
 "metadata": {
  "kernelspec": {
   "display_name": "Python 3",
   "language": "python",
   "name": "python3"
  },
  "language_info": {
   "codemirror_mode": {
    "name": "ipython",
    "version": 3
   },
   "file_extension": ".py",
   "mimetype": "text/x-python",
   "name": "python",
   "nbconvert_exporter": "python",
   "pygments_lexer": "ipython3",
   "version": "3.6.3"
  }
 },
 "nbformat": 4,
 "nbformat_minor": 2
}
